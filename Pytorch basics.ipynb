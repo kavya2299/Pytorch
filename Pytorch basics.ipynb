{
  "nbformat": 4,
  "nbformat_minor": 0,
  "metadata": {
    "colab": {
      "name": "Pytorch.ipynb",
      "provenance": [],
      "authorship_tag": "ABX9TyPhxtzBFOIYhigF/2I7judc",
      "include_colab_link": true
    },
    "kernelspec": {
      "name": "python3",
      "display_name": "Python 3"
    }
  },
  "cells": [
    {
      "cell_type": "markdown",
      "metadata": {
        "id": "view-in-github",
        "colab_type": "text"
      },
      "source": [
        "<a href=\"https://colab.research.google.com/github/kavya2299/Pytorch/blob/master/Pytorch.ipynb\" target=\"_parent\"><img src=\"https://colab.research.google.com/assets/colab-badge.svg\" alt=\"Open In Colab\"/></a>"
      ]
    },
    {
      "cell_type": "code",
      "metadata": {
        "id": "bOtPTjJBCXTC",
        "colab_type": "code",
        "colab": {}
      },
      "source": [
        "from __future__ import print_function\n",
        "import torch"
      ],
      "execution_count": 0,
      "outputs": []
    },
    {
      "cell_type": "code",
      "metadata": {
        "id": "RLb2wJ6uC-X5",
        "colab_type": "code",
        "outputId": "881ffefc-88cd-42de-9492-51cf63c1a486",
        "colab": {
          "base_uri": "https://localhost:8080/",
          "height": 286
        }
      },
      "source": [
        "# uninitialized matrix\n",
        "x = torch.empty(5, 3)\n",
        "print(x)\n",
        "# random initialization\n",
        "x = torch.rand(5, 3)\n",
        "print(x)\n",
        "# zero initialization\n",
        "x = torch.zeros(5, 3, dtype=torch.long)\n",
        "print(x)\n",
        "# values initialization\n",
        "x = torch.tensor([5.5, 3, 7, 98])\n",
        "print(x)"
      ],
      "execution_count": 0,
      "outputs": [
        {
          "output_type": "stream",
          "text": [
            "tensor([[7.1079e-36, 0.0000e+00, 0.0000e+00],\n",
            "        [0.0000e+00, 0.0000e+00, 0.0000e+00],\n",
            "        [0.0000e+00, 0.0000e+00, 2.8026e-45],\n",
            "        [0.0000e+00, 1.1210e-44, 0.0000e+00],\n",
            "        [1.4013e-45, 0.0000e+00, 0.0000e+00]])\n",
            "tensor([[0.4345, 0.2770, 0.0935],\n",
            "        [0.2348, 0.0703, 0.0806],\n",
            "        [0.7266, 0.6007, 0.1692],\n",
            "        [0.3602, 0.0144, 0.9920],\n",
            "        [0.4022, 0.5477, 0.3322]])\n",
            "tensor([[0, 0, 0],\n",
            "        [0, 0, 0],\n",
            "        [0, 0, 0],\n",
            "        [0, 0, 0],\n",
            "        [0, 0, 0]])\n",
            "tensor([ 5.5000,  3.0000,  7.0000, 98.0000])\n"
          ],
          "name": "stdout"
        }
      ]
    },
    {
      "cell_type": "code",
      "metadata": {
        "id": "M19OGfIGEAbA",
        "colab_type": "code",
        "outputId": "d098431f-3dad-42e5-d5a0-cabc6de9c928",
        "colab": {
          "base_uri": "https://localhost:8080/",
          "height": 218
        }
      },
      "source": [
        "# unity initialization\n",
        "x = x.new_ones(5, 3, dtype=torch.int)      # new_* methods take in sizes\n",
        "print(x)\n",
        "# to get the size of a matrix x\n",
        "print(x.size())\n",
        "# to override only the data type and leaving the values and size constant\n",
        "x = torch.randn_like(x, dtype=torch.float)    \n",
        "print(x)                                      \n",
        "print(x.size())"
      ],
      "execution_count": 0,
      "outputs": [
        {
          "output_type": "stream",
          "text": [
            "tensor([[1, 1, 1],\n",
            "        [1, 1, 1],\n",
            "        [1, 1, 1],\n",
            "        [1, 1, 1],\n",
            "        [1, 1, 1]], dtype=torch.int32)\n",
            "torch.Size([5, 3])\n",
            "tensor([[ 0.5422,  0.3284,  0.6892],\n",
            "        [ 1.3852, -0.2142,  1.3812],\n",
            "        [ 0.7038, -0.3737, -2.2642],\n",
            "        [ 0.2268,  1.0112, -2.3018],\n",
            "        [-0.8887,  1.3989, -0.4783]])\n",
            "torch.Size([5, 3])\n"
          ],
          "name": "stdout"
        }
      ]
    },
    {
      "cell_type": "markdown",
      "metadata": {
        "id": "XfCorJyVRMtf",
        "colab_type": "text"
      },
      "source": [
        "### Addition"
      ]
    },
    {
      "cell_type": "code",
      "metadata": {
        "id": "4Sb1fgthRPYt",
        "colab_type": "code",
        "outputId": "586f1878-2464-474e-b122-ef441f88c163",
        "colab": {
          "base_uri": "https://localhost:8080/",
          "height": 386
        }
      },
      "source": [
        "# syntax 1\n",
        "y = torch.rand(5, 3)\n",
        "print(x + y)\n",
        "# syntax 2\n",
        "print(torch.add(x, y))\n",
        "# syntax 3: with the dimensions of result mentioned\n",
        "result = torch.empty(5, 3)\n",
        "torch.add(x, y, out=result)\n",
        "print(result)\n",
        "# syntax 4: in-place addition\n",
        "# adds x to y\n",
        "y.add_(x)\n",
        "print(y)\n",
        "print(y.size())\n",
        "print(x.size())"
      ],
      "execution_count": 0,
      "outputs": [
        {
          "output_type": "stream",
          "text": [
            "tensor([[ 1.1924,  0.5224,  0.8151],\n",
            "        [ 1.8085,  0.6620,  1.7677],\n",
            "        [ 1.0684,  0.3981, -1.8589],\n",
            "        [ 0.4004,  1.5738, -2.0167],\n",
            "        [-0.7332,  1.8730,  0.4619]])\n",
            "tensor([[ 1.1924,  0.5224,  0.8151],\n",
            "        [ 1.8085,  0.6620,  1.7677],\n",
            "        [ 1.0684,  0.3981, -1.8589],\n",
            "        [ 0.4004,  1.5738, -2.0167],\n",
            "        [-0.7332,  1.8730,  0.4619]])\n",
            "tensor([[ 1.1924,  0.5224,  0.8151],\n",
            "        [ 1.8085,  0.6620,  1.7677],\n",
            "        [ 1.0684,  0.3981, -1.8589],\n",
            "        [ 0.4004,  1.5738, -2.0167],\n",
            "        [-0.7332,  1.8730,  0.4619]])\n",
            "tensor([[ 1.1924,  0.5224,  0.8151],\n",
            "        [ 1.8085,  0.6620,  1.7677],\n",
            "        [ 1.0684,  0.3981, -1.8589],\n",
            "        [ 0.4004,  1.5738, -2.0167],\n",
            "        [-0.7332,  1.8730,  0.4619]])\n",
            "torch.Size([5, 3])\n",
            "torch.Size([5, 3])\n"
          ],
          "name": "stdout"
        }
      ]
    },
    {
      "cell_type": "markdown",
      "metadata": {
        "id": "bEjo4yE5THUS",
        "colab_type": "text"
      },
      "source": [
        "To carry out any mutation, use '_' after the method used"
      ]
    },
    {
      "cell_type": "code",
      "metadata": {
        "id": "HPAfAsiWTP1g",
        "colab_type": "code",
        "outputId": "d10acbcb-4e8b-4f92-fef0-53f496b308fd",
        "colab": {
          "base_uri": "https://localhost:8080/",
          "height": 151
        }
      },
      "source": [
        "x=x.copy_(y)\n",
        "print(x)\n",
        "x=x.t_()\n",
        "print(x)"
      ],
      "execution_count": 0,
      "outputs": [
        {
          "output_type": "stream",
          "text": [
            "tensor([[ 1.1924,  0.5224,  0.8151],\n",
            "        [ 1.8085,  0.6620,  1.7677],\n",
            "        [ 1.0684,  0.3981, -1.8589],\n",
            "        [ 0.4004,  1.5738, -2.0167],\n",
            "        [-0.7332,  1.8730,  0.4619]])\n",
            "tensor([[ 1.1924,  1.8085,  1.0684,  0.4004, -0.7332],\n",
            "        [ 0.5224,  0.6620,  0.3981,  1.5738,  1.8730],\n",
            "        [ 0.8151,  1.7677, -1.8589, -2.0167,  0.4619]])\n"
          ],
          "name": "stdout"
        }
      ]
    },
    {
      "cell_type": "code",
      "metadata": {
        "id": "JuBwB24CUk8h",
        "colab_type": "code",
        "outputId": "5cc76b1c-21e6-4ade-fbaa-2101cbe7c163",
        "colab": {
          "base_uri": "https://localhost:8080/",
          "height": 171
        }
      },
      "source": [
        "print(x[:, 1])\n",
        "x = torch.randn(4, 4)\n",
        "y = x.view(16)\n",
        "z = x.view(-1, 8)  # the size -1 is inferred from other dimensions\n",
        "print(x.size(), y.size(), z.size())\n",
        "print(x,y,z)"
      ],
      "execution_count": 0,
      "outputs": [
        {
          "output_type": "stream",
          "text": [
            "tensor([1.8085, 0.6620, 1.7677])\n",
            "torch.Size([4, 4]) torch.Size([16]) torch.Size([2, 8])\n",
            "tensor([[ 0.1988, -0.1906, -0.8465,  0.6534],\n",
            "        [ 2.2906, -0.5757,  0.1369,  2.4411],\n",
            "        [ 0.8579,  0.8843, -0.0862, -0.6409],\n",
            "        [ 0.7899,  1.5888,  1.4338, -0.5901]]) tensor([ 0.1988, -0.1906, -0.8465,  0.6534,  2.2906, -0.5757,  0.1369,  2.4411,\n",
            "         0.8579,  0.8843, -0.0862, -0.6409,  0.7899,  1.5888,  1.4338, -0.5901]) tensor([[ 0.1988, -0.1906, -0.8465,  0.6534,  2.2906, -0.5757,  0.1369,  2.4411],\n",
            "        [ 0.8579,  0.8843, -0.0862, -0.6409,  0.7899,  1.5888,  1.4338, -0.5901]])\n"
          ],
          "name": "stdout"
        }
      ]
    },
    {
      "cell_type": "code",
      "metadata": {
        "id": "2_Ii4SUUVhZh",
        "colab_type": "code",
        "outputId": "718498c4-6e89-44d2-a3a8-516f4fdea9d5",
        "colab": {
          "base_uri": "https://localhost:8080/",
          "height": 50
        }
      },
      "source": [
        "x = torch.randn(1)\n",
        "print(x)\n",
        "print(x.item()) # .item() is used to get the number in the matrix"
      ],
      "execution_count": 0,
      "outputs": [
        {
          "output_type": "stream",
          "text": [
            "tensor([-0.3280])\n",
            "-0.3279852867126465\n"
          ],
          "name": "stdout"
        }
      ]
    },
    {
      "cell_type": "markdown",
      "metadata": {
        "id": "AkeqrLLwWYRW",
        "colab_type": "text"
      },
      "source": [
        "### Converting a torch tensor to a numpy array\n"
      ]
    },
    {
      "cell_type": "code",
      "metadata": {
        "id": "71E7vfTWWXEn",
        "colab_type": "code",
        "outputId": "80a9c505-c309-41f8-fb2e-23112743c9e2",
        "colab": {
          "base_uri": "https://localhost:8080/",
          "height": 84
        }
      },
      "source": [
        "a = torch.ones(5)\n",
        "print(a)\n",
        "b = a.numpy()\n",
        "print(b)\n",
        "a.add_(1)\n",
        "print(a)\n",
        "print(b)"
      ],
      "execution_count": 0,
      "outputs": [
        {
          "output_type": "stream",
          "text": [
            "tensor([1., 1., 1., 1., 1.])\n",
            "[1. 1. 1. 1. 1.]\n",
            "tensor([2., 2., 2., 2., 2.])\n",
            "[2. 2. 2. 2. 2.]\n"
          ],
          "name": "stdout"
        }
      ]
    },
    {
      "cell_type": "markdown",
      "metadata": {
        "id": "mI0Knzr8WqhO",
        "colab_type": "text"
      },
      "source": [
        "### Converting Numpy array to a Torch tensor"
      ]
    },
    {
      "cell_type": "code",
      "metadata": {
        "id": "9kMS1RdeWpaX",
        "colab_type": "code",
        "outputId": "5c0761e2-5b46-4103-da29-206d2a63a17e",
        "colab": {
          "base_uri": "https://localhost:8080/",
          "height": 50
        }
      },
      "source": [
        "import numpy as np\n",
        "a = np.ones(5)\n",
        "b = torch.from_numpy(a)\n",
        "np.add(a, 1, out=a)\n",
        "print(a)\n",
        "print(b)"
      ],
      "execution_count": 0,
      "outputs": [
        {
          "output_type": "stream",
          "text": [
            "[2. 2. 2. 2. 2.]\n",
            "tensor([2., 2., 2., 2., 2.], dtype=torch.float64)\n"
          ],
          "name": "stdout"
        }
      ]
    },
    {
      "cell_type": "code",
      "metadata": {
        "id": "oBpHr15VmFkL",
        "colab_type": "code",
        "outputId": "195f7538-fa17-48dc-9b15-a303daf8c07c",
        "colab": {
          "base_uri": "https://localhost:8080/",
          "height": 50
        }
      },
      "source": [
        "class Employee:  \n",
        "    id = 10;  \n",
        "    name = \"John\"  \n",
        "    def display (self):  \n",
        "        print(\"ID: %d \\nName: %s\"%(self.id,self.name))  \n",
        "emp = Employee()  \n",
        "emp.display()  \n",
        "\n"
      ],
      "execution_count": 0,
      "outputs": [
        {
          "output_type": "stream",
          "text": [
            "ID: 10 \n",
            "Name: John\n"
          ],
          "name": "stdout"
        }
      ]
    },
    {
      "cell_type": "code",
      "metadata": {
        "id": "UvDxrvmI3Nds",
        "colab_type": "code",
        "outputId": "a105db31-52c7-4e44-9a2a-71d09e684c09",
        "colab": {
          "base_uri": "https://localhost:8080/",
          "height": 235
        }
      },
      "source": [
        "import torch \n",
        "import numpy as np\n",
        "data =np.array([1,2,3])\n",
        "print(data)\n",
        "\n",
        "t1 = torch.Tensor(data)\n",
        "t2 = torch.tensor(data)\n",
        "t3 = torch.as_tensor(data)\n",
        "t4 = torch.from_numpy(data)\n",
        "\n",
        "print(t1)\n",
        "print(t2)\n",
        "print(t3)\n",
        "print(t4)\n",
        "\n",
        "print(t1.dtype)\n",
        "print(t2.dtype)\n",
        "print(t3.dtype)\n",
        "print(t4.dtype)\n",
        "\n",
        "# the differences between the tensor creations are that Tensor() is a constructor whereas the rest are factory creators\n",
        "# the Tensor() and tensor() methods copy the data values into a tensor\n",
        "# whereas the as_tensor() and from_numpy() methods share the data with the numpy and tensor packages\n",
        "# hence, as_tensor() and from_numpy() are less intensive than the other two\n",
        "\n",
        "# now the data in the numpy array is changed and the that in the tensor remains the same and the reason for the results in the below lines is explained in the lines above\n",
        "data[0] = 0\n",
        "data[1] = 0\n",
        "data[2] = 0\n",
        "\n",
        "print(t1, t1.dtype)\n",
        "print(t2, t2.dtype)\n",
        "print(t3, t3.dtype)\n",
        "print(t4, t4.dtype)\n"
      ],
      "execution_count": 0,
      "outputs": [
        {
          "output_type": "stream",
          "text": [
            "[1 2 3]\n",
            "tensor([1., 2., 3.])\n",
            "tensor([1, 2, 3])\n",
            "tensor([1, 2, 3])\n",
            "tensor([1, 2, 3])\n",
            "torch.float32\n",
            "torch.int64\n",
            "torch.int64\n",
            "torch.int64\n",
            "tensor([1., 2., 3.]) torch.float32\n",
            "tensor([1, 2, 3]) torch.int64\n",
            "tensor([0, 0, 0]) torch.int64\n",
            "tensor([0, 0, 0]) torch.int64\n"
          ],
          "name": "stdout"
        }
      ]
    },
    {
      "cell_type": "markdown",
      "metadata": {
        "id": "-3KT2yUbgxpu",
        "colab_type": "text"
      },
      "source": [
        "### Primary Operations in Pytorch\n",
        "* Reshaping\n",
        "* Element-wise \n",
        "* Reduction\n",
        "* Access\n"
      ]
    },
    {
      "cell_type": "code",
      "metadata": {
        "id": "Xoq6_c51H9fD",
        "colab_type": "code",
        "outputId": "50d979c2-1457-44d4-cc94-37a6c34c9598",
        "colab": {
          "base_uri": "https://localhost:8080/",
          "height": 195
        }
      },
      "source": [
        "# reshaping\n",
        "trans1 = t1.reshape(1,9)\n",
        "trans2 = t1.reshape(9,)\n",
        "trans3 = t1.flatten()"
      ],
      "execution_count": 0,
      "outputs": [
        {
          "output_type": "error",
          "ename": "RuntimeError",
          "evalue": "ignored",
          "traceback": [
            "\u001b[0;31m---------------------------------------------------------------------------\u001b[0m",
            "\u001b[0;31mRuntimeError\u001b[0m                              Traceback (most recent call last)",
            "\u001b[0;32m<ipython-input-13-6b533833ce52>\u001b[0m in \u001b[0;36m<module>\u001b[0;34m()\u001b[0m\n\u001b[0;32m----> 1\u001b[0;31m \u001b[0mtrans1\u001b[0m \u001b[0;34m=\u001b[0m \u001b[0mt1\u001b[0m\u001b[0;34m.\u001b[0m\u001b[0mreshape\u001b[0m\u001b[0;34m(\u001b[0m\u001b[0;36m1\u001b[0m\u001b[0;34m,\u001b[0m\u001b[0;36m9\u001b[0m\u001b[0;34m)\u001b[0m\u001b[0;34m\u001b[0m\u001b[0;34m\u001b[0m\u001b[0m\n\u001b[0m\u001b[1;32m      2\u001b[0m \u001b[0mtrans2\u001b[0m \u001b[0;34m=\u001b[0m \u001b[0mt1\u001b[0m\u001b[0;34m.\u001b[0m\u001b[0mreshape\u001b[0m\u001b[0;34m(\u001b[0m\u001b[0;36m9\u001b[0m\u001b[0;34m,\u001b[0m\u001b[0;34m)\u001b[0m\u001b[0;34m\u001b[0m\u001b[0;34m\u001b[0m\u001b[0m\n\u001b[1;32m      3\u001b[0m \u001b[0mtrans3\u001b[0m \u001b[0;34m=\u001b[0m \u001b[0mt1\u001b[0m\u001b[0;34m.\u001b[0m\u001b[0mflatten\u001b[0m\u001b[0;34m(\u001b[0m\u001b[0;34m)\u001b[0m\u001b[0;34m\u001b[0m\u001b[0;34m\u001b[0m\u001b[0m\n",
            "\u001b[0;31mRuntimeError\u001b[0m: shape '[1, 9]' is invalid for input of size 3"
          ]
        }
      ]
    },
    {
      "cell_type": "code",
      "metadata": {
        "id": "Yni6ICKa7UV7",
        "colab_type": "code",
        "outputId": "b8695cd0-de7f-46fb-8c4d-84a468bb6ff1",
        "colab": {
          "base_uri": "https://localhost:8080/",
          "height": 622
        }
      },
      "source": [
        "import torch\n",
        "import numpy as np\n",
        "# we have 4 axes to represent any input to a network(batch_size, no_of_colour_channels, width, height)\n",
        "\n",
        "t1 = torch.tensor([[1,1,1,1],[1,1,1,1],[1,1,1,1],[1,1,1,1]])\n",
        "t2 = torch.tensor([[2,2,2,2],[2,2,2,2],[2,2,2,2],[2,2,2,2]])\n",
        "t3 = torch.tensor([[3,3,3,3],[3,3,3,3],[3,3,3,3],[3,3,3,3]])\n",
        "t = torch.cat((t1,t2,t3), dim=1)\n",
        "t_new = torch.stack((t1,t2,t3)) # to introduce a new dimension\n",
        "print(t)\n",
        "print(t_new)\n",
        "print(t.shape)\n",
        "print(t_new.shape)\n",
        "# to introduce a colour channel\n",
        "print(t_new.reshape(3,1,4,4))\n"
      ],
      "execution_count": 0,
      "outputs": [
        {
          "output_type": "stream",
          "text": [
            "tensor([[1, 1, 1, 1, 2, 2, 2, 2, 3, 3, 3, 3],\n",
            "        [1, 1, 1, 1, 2, 2, 2, 2, 3, 3, 3, 3],\n",
            "        [1, 1, 1, 1, 2, 2, 2, 2, 3, 3, 3, 3],\n",
            "        [1, 1, 1, 1, 2, 2, 2, 2, 3, 3, 3, 3]])\n",
            "tensor([[[1, 1, 1, 1],\n",
            "         [1, 1, 1, 1],\n",
            "         [1, 1, 1, 1],\n",
            "         [1, 1, 1, 1]],\n",
            "\n",
            "        [[2, 2, 2, 2],\n",
            "         [2, 2, 2, 2],\n",
            "         [2, 2, 2, 2],\n",
            "         [2, 2, 2, 2]],\n",
            "\n",
            "        [[3, 3, 3, 3],\n",
            "         [3, 3, 3, 3],\n",
            "         [3, 3, 3, 3],\n",
            "         [3, 3, 3, 3]]])\n",
            "torch.Size([4, 12])\n",
            "torch.Size([3, 4, 4])\n",
            "tensor([[[[1, 1, 1, 1],\n",
            "          [1, 1, 1, 1],\n",
            "          [1, 1, 1, 1],\n",
            "          [1, 1, 1, 1]]],\n",
            "\n",
            "\n",
            "        [[[2, 2, 2, 2],\n",
            "          [2, 2, 2, 2],\n",
            "          [2, 2, 2, 2],\n",
            "          [2, 2, 2, 2]]],\n",
            "\n",
            "\n",
            "        [[[3, 3, 3, 3],\n",
            "          [3, 3, 3, 3],\n",
            "          [3, 3, 3, 3],\n",
            "          [3, 3, 3, 3]]]])\n"
          ],
          "name": "stdout"
        }
      ]
    },
    {
      "cell_type": "code",
      "metadata": {
        "id": "mpYExUyFIZPa",
        "colab_type": "code",
        "colab": {}
      },
      "source": [
        "t = t_new.reshape(3,1,4,4)\n",
        "print(t.shape)\n",
        "print(t[0])\n",
        "print(t[0][0])\n",
        "print(t[0][0][0])\n",
        "print(t[0][0][0][0])"
      ],
      "execution_count": 0,
      "outputs": []
    },
    {
      "cell_type": "markdown",
      "metadata": {
        "id": "A_TPhhcCL8_Q",
        "colab_type": "text"
      },
      "source": [
        "* Alternatives for flatten()\n"
      ]
    },
    {
      "cell_type": "code",
      "metadata": {
        "id": "kfPyJeoALWQK",
        "colab_type": "code",
        "colab": {}
      },
      "source": [
        "t.reshape(1,-1)[0]"
      ],
      "execution_count": 0,
      "outputs": []
    },
    {
      "cell_type": "code",
      "metadata": {
        "id": "HveNI5C3LeTj",
        "colab_type": "code",
        "colab": {}
      },
      "source": [
        "t.reshape(48,)"
      ],
      "execution_count": 0,
      "outputs": []
    },
    {
      "cell_type": "code",
      "metadata": {
        "id": "yOBlc1djLqF0",
        "colab_type": "code",
        "colab": {}
      },
      "source": [
        "t.reshape(-1)"
      ],
      "execution_count": 0,
      "outputs": []
    },
    {
      "cell_type": "code",
      "metadata": {
        "id": "D-nN_pP4Lt1l",
        "colab_type": "code",
        "colab": {}
      },
      "source": [
        "t.view(t.numel())"
      ],
      "execution_count": 0,
      "outputs": []
    },
    {
      "cell_type": "code",
      "metadata": {
        "id": "FW_hOPsWMNZA",
        "colab_type": "code",
        "colab": {}
      },
      "source": [
        "t.flatten(start_dim=1).shape"
      ],
      "execution_count": 0,
      "outputs": []
    },
    {
      "cell_type": "code",
      "metadata": {
        "id": "nvfKbKWFMUSn",
        "colab_type": "code",
        "colab": {}
      },
      "source": [
        "t.flatten(start_dim=1) # to flatten across the image channel"
      ],
      "execution_count": 0,
      "outputs": []
    },
    {
      "cell_type": "code",
      "metadata": {
        "id": "EUe2SKRVMX0e",
        "colab_type": "code",
        "colab": {}
      },
      "source": [
        "t.flatten(start_dim=0).shape"
      ],
      "execution_count": 0,
      "outputs": []
    },
    {
      "cell_type": "code",
      "metadata": {
        "id": "ojNOF7MwMbjS",
        "colab_type": "code",
        "colab": {}
      },
      "source": [
        "t.flatten(start_dim=2).shape"
      ],
      "execution_count": 0,
      "outputs": []
    },
    {
      "cell_type": "code",
      "metadata": {
        "id": "Wb-m2ks0MfrB",
        "colab_type": "code",
        "colab": {}
      },
      "source": [
        "t.flatten(start_dim=3).shape"
      ],
      "execution_count": 0,
      "outputs": []
    },
    {
      "cell_type": "code",
      "metadata": {
        "id": "SZJ8hMKwNMnP",
        "colab_type": "code",
        "outputId": "91aacc09-f3b4-429a-959a-177922d3fb1c",
        "colab": {
          "base_uri": "https://localhost:8080/",
          "height": 118
        }
      },
      "source": [
        "### element-wise operations\n",
        "t1 = torch.tensor([[1,2,3],[1,2,3],[1,2,3]])\n",
        "t2 = torch.tensor([1,2,3])\n",
        "print(t1+t2)\n",
        "print(t1+np.broadcast_to(t2,t1.shape))\n"
      ],
      "execution_count": 0,
      "outputs": [
        {
          "output_type": "stream",
          "text": [
            "tensor([[2, 4, 6],\n",
            "        [2, 4, 6],\n",
            "        [2, 4, 6]])\n",
            "tensor([[2, 4, 6],\n",
            "        [2, 4, 6],\n",
            "        [2, 4, 6]])\n"
          ],
          "name": "stdout"
        }
      ]
    },
    {
      "cell_type": "code",
      "metadata": {
        "id": "pA9LNfDOWdDX",
        "colab_type": "code",
        "outputId": "8b67018c-1d38-4500-a650-883385520c53",
        "colab": {
          "base_uri": "https://localhost:8080/",
          "height": 222
        }
      },
      "source": [
        "# reduction operations\n",
        "print(t1.sum())\n",
        "print(t1.numel())\n",
        "print(t1.sum().numel())\n",
        "print(t1.sum().numel()<t1.numel())\n",
        "\n",
        "# since the sum() reduces the number of elements in the tensor to '1', we call it a reduction operation\n",
        "t1 = torch.tensor(t1,dtype=torch.float32)\n",
        "print(t1.mean())\n",
        "print(t1.prod())\n",
        "print(t1.std())\n",
        "\n",
        "# reduction operations do not necessarily reduce to 1 number, they also reduce the tensors along a particular axis\n",
        "\n",
        "print(t1.sum(dim=0))\n",
        "print(t1.sum(dim=1))"
      ],
      "execution_count": 0,
      "outputs": [
        {
          "output_type": "stream",
          "text": [
            "tensor(18)\n",
            "9\n",
            "1\n",
            "True\n",
            "tensor(2.)\n",
            "tensor(216.)\n",
            "tensor(0.8660)\n",
            "tensor([3., 6., 9.])\n",
            "tensor([6., 6., 6.])\n"
          ],
          "name": "stdout"
        },
        {
          "output_type": "stream",
          "text": [
            "/usr/local/lib/python3.6/dist-packages/ipykernel_launcher.py:7: UserWarning: To copy construct from a tensor, it is recommended to use sourceTensor.clone().detach() or sourceTensor.clone().detach().requires_grad_(True), rather than torch.tensor(sourceTensor).\n",
            "  import sys\n"
          ],
          "name": "stderr"
        }
      ]
    },
    {
      "cell_type": "code",
      "metadata": {
        "id": "qQqQhfCHe836",
        "colab_type": "code",
        "outputId": "2113c50b-d86d-4ea0-91f2-1307fa749141",
        "colab": {
          "base_uri": "https://localhost:8080/",
          "height": 302
        }
      },
      "source": [
        "t2 = torch.tensor([[1,2,3],[7,8,9],[4,5,6]])\n",
        "print(t1.dtype)\n",
        "print(t2.dtype)\n",
        "print(t1+t2)\n",
        "print((t1+t2).dtype)\n",
        "print((t1+t2).max())\n",
        "print((t1+t2).max().item()) # to access only the number in the tensor\n",
        "print((t1+t2).max(dim=0))\n",
        "print((t1+t2).max(dim=1))\n",
        "print((t1+t2).argmax()) # gives the position of the maximum number in the flattened vector of the tensor\n",
        "print((t1+t2).argmax(dim=0))\n",
        "print((t1+t2).argmax(dim=1))\n"
      ],
      "execution_count": 0,
      "outputs": [
        {
          "output_type": "stream",
          "text": [
            "torch.float32\n",
            "torch.int64\n",
            "tensor([[ 2.,  4.,  6.],\n",
            "        [ 8., 10., 12.],\n",
            "        [ 5.,  7.,  9.]])\n",
            "torch.float32\n",
            "tensor(12.)\n",
            "12.0\n",
            "torch.return_types.max(\n",
            "values=tensor([ 8., 10., 12.]),\n",
            "indices=tensor([1, 1, 1]))\n",
            "torch.return_types.max(\n",
            "values=tensor([ 6., 12.,  9.]),\n",
            "indices=tensor([2, 2, 2]))\n",
            "tensor(5)\n",
            "tensor([1, 1, 1])\n",
            "tensor([2, 2, 2])\n"
          ],
          "name": "stdout"
        }
      ]
    }
  ]
}

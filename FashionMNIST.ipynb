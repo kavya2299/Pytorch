{
  "nbformat": 4,
  "nbformat_minor": 0,
  "metadata": {
    "colab": {
      "name": "FashionMNIST.ipynb",
      "provenance": [],
      "collapsed_sections": [],
      "authorship_tag": "ABX9TyN5mFBTVCfOC2OMvPBoi/lQ",
      "include_colab_link": true
    },
    "kernelspec": {
      "name": "python3",
      "display_name": "Python 3"
    }
  },
  "cells": [
    {
      "cell_type": "markdown",
      "metadata": {
        "id": "view-in-github",
        "colab_type": "text"
      },
      "source": [
        "<a href=\"https://colab.research.google.com/github/kavya2299/Pytorch/blob/master/FashionMNIST.ipynb\" target=\"_parent\"><img src=\"https://colab.research.google.com/assets/colab-badge.svg\" alt=\"Open In Colab\"/></a>"
      ]
    },
    {
      "cell_type": "markdown",
      "metadata": {
        "id": "0NFGnowmAelr",
        "colab_type": "text"
      },
      "source": [
        "### Imports and Data Loads\n"
      ]
    },
    {
      "cell_type": "code",
      "metadata": {
        "id": "FWiZJTmpzSyH",
        "colab_type": "code",
        "colab": {}
      },
      "source": [
        "import torch\n",
        "import numpy as np\n",
        "import matplotlib.pyplot as plt\n",
        "import torch.nn.functional as F\n",
        "import torchvision\n",
        "import torchvision.transforms as transforms\n",
        "import torch.optim as optim\n",
        "\n",
        "train_set = torchvision.datasets.FashionMNIST(root = './data/FashionMNIST', train = True, download = True, transform = transforms.Compose([transforms.ToTensor()]))\n",
        "\n",
        "train_loader = torch.utils.data.DataLoader(train_set,batch_size=10)"
      ],
      "execution_count": 0,
      "outputs": []
    },
    {
      "cell_type": "code",
      "metadata": {
        "id": "dIOSqi8eGOYs",
        "colab_type": "code",
        "outputId": "94d91ff7-59fc-4216-a0de-a824c966eba3",
        "colab": {
          "base_uri": "https://localhost:8080/",
          "height": 67
        }
      },
      "source": [
        "torch.set_printoptions(linewidth=120)\n",
        "print(len(train_set))\n",
        "print(train_set.targets) # targets are the train labels here\n",
        "print(train_set.targets.bincount())"
      ],
      "execution_count": 170,
      "outputs": [
        {
          "output_type": "stream",
          "text": [
            "60000\n",
            "tensor([9, 0, 0,  ..., 3, 0, 5])\n",
            "tensor([6000, 6000, 6000, 6000, 6000, 6000, 6000, 6000, 6000, 6000])\n"
          ],
          "name": "stdout"
        }
      ]
    },
    {
      "cell_type": "markdown",
      "metadata": {
        "id": "o8IXz5YNjXuH",
        "colab_type": "text"
      },
      "source": [
        "### Visualizing the data"
      ]
    },
    {
      "cell_type": "code",
      "metadata": {
        "id": "aJzCVNcLJLQI",
        "colab_type": "code",
        "outputId": "844977db-360e-47c9-be86-f4775769f8d3",
        "colab": {
          "base_uri": "https://localhost:8080/",
          "height": 366
        }
      },
      "source": [
        "# to carry out sample-wise operations\n",
        "sample = next(iter(train_set))\n",
        "print(len(sample))\n",
        "print(type(sample))\n",
        "image, label = sample\n",
        "print('label:', label)\n",
        "print(image.shape)\n",
        "print(image.squeeze().shape)\n",
        "plt.imshow(image.squeeze(),cmap = 'gray')\n",
        "# squeeze removes a dim whereas unsqueeze adds a dim\n",
        "print(label)"
      ],
      "execution_count": 171,
      "outputs": [
        {
          "output_type": "stream",
          "text": [
            "2\n",
            "<class 'tuple'>\n",
            "label: 9\n",
            "torch.Size([1, 28, 28])\n",
            "torch.Size([28, 28])\n",
            "9\n"
          ],
          "name": "stdout"
        },
        {
          "output_type": "display_data",
          "data": {
            "image/png": "[encoded data removed]",
            "text/plain": [
              "<Figure size 432x288 with 1 Axes>"
            ]
          },
          "metadata": {
            "tags": []
          }
        }
      ]
    },
    {
      "cell_type": "code",
      "metadata": {
        "id": "TcrzcpZLK0GW",
        "colab_type": "code",
        "outputId": "88f8e325-cce4-4983-96e3-c473e0a9fb19",
        "colab": {
          "base_uri": "https://localhost:8080/",
          "height": 208
        }
      },
      "source": [
        "# to carry out batch-wise operations\n",
        "batch = next(iter(train_loader))\n",
        "print(len(batch))\n",
        "print(type(batch))\n",
        "images, labels = batch\n",
        "print('label:', labels)\n",
        "print(images.shape)\n",
        "print(labels.shape)\n",
        "\n",
        "grid = torchvision.utils.make_grid(images, nrow=10)\n",
        "plt.figure(figsize=(15,15))\n",
        "plt.imshow(np.transpose(grid,(1,2,0)))\n",
        "print(labels)"
      ],
      "execution_count": 172,
      "outputs": [
        {
          "output_type": "stream",
          "text": [
            "2\n",
            "<class 'list'>\n",
            "label: tensor([9, 0, 0, 3, 0, 2, 7, 2, 5, 5])\n",
            "torch.Size([10, 1, 28, 28])\n",
            "torch.Size([10])\n",
            "tensor([9, 0, 0, 3, 0, 2, 7, 2, 5, 5])\n"
          ],
          "name": "stdout"
        },
        {
          "output_type": "display_data",
          "data": {
            "image/png": "[encoded data removed]",
            "text/plain": [
              "<Figure size 1080x1080 with 1 Axes>"
            ]
          },
          "metadata": {
            "tags": []
          }
        }
      ]
    },
    {
      "cell_type": "markdown",
      "metadata": {
        "id": "mTpUk5qNj7va",
        "colab_type": "text"
      },
      "source": [
        "### Defining the architecture of the network\n",
        "* __Forward Propagation function__"
      ]
    },
    {
      "cell_type": "code",
      "metadata": {
        "id": "L0qjssNp8YYx",
        "colab_type": "code",
        "colab": {
          "base_uri": "https://localhost:8080/",
          "height": 134
        },
        "outputId": "139a3ad8-8e87-4f28-f574-fe4f68f1672a"
      },
      "source": [
        "class Network(nn.Module): # every neural network requires a Module class to be extended\n",
        "  def __init__(self):\n",
        "    super().__init__()\n",
        "    # dummy layer if assigned to a Nonetype object \n",
        "\n",
        "    # conv2d layer has in-channel describing the depth of an image being passed\n",
        "    # out-channel describes the number of filters/kernels used\n",
        "    # these output a rank 2 tensor\n",
        "    \n",
        "    #Linear layers use in_features and out_features which are rank 1 tensors\n",
        "    \n",
        "    # both conv and linear layers can store the learnable parameters in each of their layers\n",
        "\n",
        "    self.conv1 = nn.Conv2d(in_channels=1, out_channels=6, kernel_size=5)   \n",
        "    self.conv2 = nn.Conv2d(in_channels=6, out_channels=12, kernel_size=5)\n",
        "    \n",
        "    self.fc1 = nn.Linear(in_features=12*4*4, out_features=120)\n",
        "    self.fc2 = nn.Linear(in_features=120, out_features=60)\n",
        "    self.out = nn.Linear(in_features=60, out_features=10)\n",
        "  def forward(self,t):\n",
        "    # input layer\n",
        "    #t = t\n",
        "\n",
        "    # hidden conv layer\n",
        "    t = self.conv1(t)\n",
        "    t = F.relu(t)\n",
        "    t = F.max_pool2d(t, kernel_size=2, stride=2)\n",
        "\n",
        "    # hidden conv layer\n",
        "    t = self.conv2(t)\n",
        "    t = F.relu(t)\n",
        "    t = F.max_pool2d(t, kernel_size=2, stride=2)\n",
        "\n",
        "    # hidden linear layer\n",
        "    t = t.reshape(-1,12*4*4)\n",
        "    t = self.fc1(t)\n",
        "    t = F.relu(t)\n",
        "\n",
        "    # hidden linear layer\n",
        "    t = self.fc2(t)\n",
        "    t = F.relu(t)\n",
        "\n",
        "    # output layer\n",
        "    t = self.out(t)\n",
        "    #t = F.softmax(t,dim=1)\n",
        "    # HERE, WE ALREADY GET A SOFTMAXED RESULT BECAUSE OF THE CROSS-ENTROPY FUNCTION AS A LOSS FUNCTION APPLIED ON THE INPUTS\n",
        "\n",
        "    return t  \n",
        "network = Network()\n",
        "network\n",
        "\n",
        "# to get the weights of the nn\n",
        "# network.conv1.weight"
      ],
      "execution_count": 173,
      "outputs": [
        {
          "output_type": "execute_result",
          "data": {
            "text/plain": [
              "Network(\n",
              "  (conv1): Conv2d(1, 6, kernel_size=(5, 5), stride=(1, 1))\n",
              "  (conv2): Conv2d(6, 12, kernel_size=(5, 5), stride=(1, 1))\n",
              "  (fc1): Linear(in_features=192, out_features=120, bias=True)\n",
              "  (fc2): Linear(in_features=120, out_features=60, bias=True)\n",
              "  (out): Linear(in_features=60, out_features=10, bias=True)\n",
              ")"
            ]
          },
          "metadata": {
            "tags": []
          },
          "execution_count": 173
        }
      ]
    },
    {
      "cell_type": "markdown",
      "metadata": {
        "id": "wXI9wiy1kPEA",
        "colab_type": "text"
      },
      "source": [
        "### Getting the shape of weights and biases(Parameters)"
      ]
    },
    {
      "cell_type": "code",
      "metadata": {
        "id": "2t_cYmU8-W5F",
        "colab_type": "code",
        "outputId": "2cb5ba2b-b39d-47a3-dc43-e7f95ea73014",
        "colab": {
          "base_uri": "https://localhost:8080/",
          "height": 101
        }
      },
      "source": [
        "print(network.conv1.weight.shape)\n",
        "print(network.conv2.weight.shape)\n",
        "print(network.fc1.weight.shape)\n",
        "print(network.fc2.weight.shape)\n",
        "print(network.out.weight.shape)"
      ],
      "execution_count": 174,
      "outputs": [
        {
          "output_type": "stream",
          "text": [
            "torch.Size([6, 1, 5, 5])\n",
            "torch.Size([12, 6, 5, 5])\n",
            "torch.Size([120, 192])\n",
            "torch.Size([60, 120])\n",
            "torch.Size([10, 60])\n"
          ],
          "name": "stdout"
        }
      ]
    },
    {
      "cell_type": "code",
      "metadata": {
        "id": "wkd-a3MQx8D7",
        "colab_type": "code",
        "outputId": "83aed41b-9551-429d-f236-fb7d37e79842",
        "colab": {
          "base_uri": "https://localhost:8080/",
          "height": 185
        }
      },
      "source": [
        "# to access all the parameters at once\n",
        "# parameters in the module class\n",
        "# each layer has a bias and weights\n",
        "# __repr__() function inside a class will override the existing functionality\n",
        "for param in network.parameters():\n",
        "  print(param.shape)"
      ],
      "execution_count": 175,
      "outputs": [
        {
          "output_type": "stream",
          "text": [
            "torch.Size([6, 1, 5, 5])\n",
            "torch.Size([6])\n",
            "torch.Size([12, 6, 5, 5])\n",
            "torch.Size([12])\n",
            "torch.Size([120, 192])\n",
            "torch.Size([120])\n",
            "torch.Size([60, 120])\n",
            "torch.Size([60])\n",
            "torch.Size([10, 60])\n",
            "torch.Size([10])\n"
          ],
          "name": "stdout"
        }
      ]
    },
    {
      "cell_type": "code",
      "metadata": {
        "id": "6LI5Yh_-yjE4",
        "colab_type": "code",
        "outputId": "d6a4c275-85a3-4bf3-fd50-ba0ebbb55b77",
        "colab": {
          "base_uri": "https://localhost:8080/",
          "height": 185
        }
      },
      "source": [
        "for name,param in network.named_parameters():\n",
        "  print(name, '\\t\\t', param.shape)"
      ],
      "execution_count": 176,
      "outputs": [
        {
          "output_type": "stream",
          "text": [
            "conv1.weight \t\t torch.Size([6, 1, 5, 5])\n",
            "conv1.bias \t\t torch.Size([6])\n",
            "conv2.weight \t\t torch.Size([12, 6, 5, 5])\n",
            "conv2.bias \t\t torch.Size([12])\n",
            "fc1.weight \t\t torch.Size([120, 192])\n",
            "fc1.bias \t\t torch.Size([120])\n",
            "fc2.weight \t\t torch.Size([60, 120])\n",
            "fc2.bias \t\t torch.Size([60])\n",
            "out.weight \t\t torch.Size([10, 60])\n",
            "out.bias \t\t torch.Size([10])\n"
          ],
          "name": "stdout"
        }
      ]
    },
    {
      "cell_type": "markdown",
      "metadata": {
        "id": "Wox9zxnakcI0",
        "colab_type": "text"
      },
      "source": [
        "Playing with weights"
      ]
    },
    {
      "cell_type": "code",
      "metadata": {
        "id": "iwRzPTwez-bp",
        "colab_type": "code",
        "outputId": "865f7e9d-ff50-4cab-88f2-62ce2852f705",
        "colab": {
          "base_uri": "https://localhost:8080/",
          "height": 50
        }
      },
      "source": [
        "import torch\n",
        "# tensors produced in each layer is wrapped in the parameter class to generate weights\n",
        "in_features = torch.tensor([1,2,3,4],dtype=torch.float32)\n",
        "weight = torch.tensor([[1,2,3,4],[2,3,4,5],[3,4,5,6]], dtype=torch.float32)\n",
        "print(weight.matmul(in_features))\n",
        "fc= nn.Linear(in_features=4, out_features=3,bias=False)\n",
        "# if the bias is not turned off, the result is only close to, not equal to\n",
        "fc.weight = nn.Parameter(weight)\n",
        "# now on passing the in_feature matrix to the fc layer, \n",
        "# the result of the multiplication is of the in_features and the weight matrix that has been randomly created by Pytorch itself\n",
        "print(fc(in_features))"
      ],
      "execution_count": 177,
      "outputs": [
        {
          "output_type": "stream",
          "text": [
            "tensor([30., 40., 50.])\n",
            "tensor([30., 40., 50.], grad_fn=<SqueezeBackward3>)\n"
          ],
          "name": "stdout"
        }
      ]
    },
    {
      "cell_type": "markdown",
      "metadata": {
        "id": "jSCacdRVkqL8",
        "colab_type": "text"
      },
      "source": [
        ""
      ]
    },
    {
      "cell_type": "markdown",
      "metadata": {
        "id": "tsl_Z9WOYrw6",
        "colab_type": "text"
      },
      "source": [
        "Computation graphs \n",
        "\n",
        "* They keep track of all the operations that are carried out in a network.\n",
        "* This serves a great role in designing the derivatives that are needed during backward propagation.\n",
        "* These are needed only during the training process whereas it can be turned off when not training, explicitly\n"
      ]
    },
    {
      "cell_type": "code",
      "metadata": {
        "id": "d_BsE4l7ZmVO",
        "colab_type": "code",
        "outputId": "b5841b5c-b2d2-42c8-e248-bbcdb066a19f",
        "colab": {
          "base_uri": "https://localhost:8080/",
          "height": 34
        }
      },
      "source": [
        "torch.set_grad_enabled(False) ## reduces memory consumption"
      ],
      "execution_count": 178,
      "outputs": [
        {
          "output_type": "execute_result",
          "data": {
            "text/plain": [
              "<torch.autograd.grad_mode.set_grad_enabled at 0x7f7536bcdef0>"
            ]
          },
          "metadata": {
            "tags": []
          },
          "execution_count": 178
        }
      ]
    },
    {
      "cell_type": "code",
      "metadata": {
        "id": "qvKFeNWqZt9E",
        "colab_type": "code",
        "outputId": "1b99d2b0-cdac-4489-9231-5c24c07c2b87",
        "colab": {
          "base_uri": "https://localhost:8080/",
          "height": 34
        }
      },
      "source": [
        "# To change the shape of the image to the form (batch size, no of colour channels, height, width) \n",
        "image.unsqueeze(0).shape # gives a batch of 1"
      ],
      "execution_count": 179,
      "outputs": [
        {
          "output_type": "execute_result",
          "data": {
            "text/plain": [
              "torch.Size([1, 1, 28, 28])"
            ]
          },
          "metadata": {
            "tags": []
          },
          "execution_count": 179
        }
      ]
    },
    {
      "cell_type": "markdown",
      "metadata": {
        "id": "kSZc3VNQlm8P",
        "colab_type": "text"
      },
      "source": [
        "### Prediction tensor"
      ]
    },
    {
      "cell_type": "code",
      "metadata": {
        "id": "DpQfibHelmKF",
        "colab_type": "code",
        "colab": {
          "base_uri": "https://localhost:8080/",
          "height": 121
        },
        "outputId": "56de38c9-fd98-423e-aa45-82f364c2a8c1"
      },
      "source": [
        "image,label = sample\n",
        "pred = network(image.unsqueeze(0))\n",
        "print(pred.shape)\n",
        "print(pred)\n",
        "print(pred.argmax(dim=1))\n",
        "print(F.softmax(pred, dim=1))\n",
        "print(F.softmax(pred, dim=1).sum())\n"
      ],
      "execution_count": 180,
      "outputs": [
        {
          "output_type": "stream",
          "text": [
            "torch.Size([1, 10])\n",
            "tensor([[-0.0128, -0.0930,  0.0655,  0.0789, -0.0774, -0.1018, -0.0362, -0.0515, -0.0263,  0.0138]])\n",
            "tensor([3])\n",
            "tensor([[0.1010, 0.0932, 0.1092, 0.1107, 0.0946, 0.0924, 0.0986, 0.0971, 0.0996, 0.1037]])\n",
            "tensor(1.0000)\n"
          ],
          "name": "stdout"
        }
      ]
    },
    {
      "cell_type": "markdown",
      "metadata": {
        "id": "EtLE7txJzo8t",
        "colab_type": "text"
      },
      "source": [
        "### Batch Processing\n",
        "\n",
        "* no unsqueezing is required"
      ]
    },
    {
      "cell_type": "code",
      "metadata": {
        "id": "ELB022jgz2rX",
        "colab_type": "code",
        "colab": {
          "base_uri": "https://localhost:8080/",
          "height": 339
        },
        "outputId": "c1ddc61b-0fac-406d-e1e0-d23f30b03823"
      },
      "source": [
        "print(images.shape)\n",
        "print(labels.shape)\n",
        "preds = network(images)\n",
        "print(preds.shape)\n",
        "print(preds)\n",
        "print(preds.argmax(dim=1))\n",
        "print(labels)\n",
        "print(preds.argmax(dim=1).eq(labels)) # comparing the predictions with the labels\n",
        "print(preds.argmax(dim=1).eq(labels).sum())# get the number of correct predictions\n",
        "def get_correct(preds,labels):\n",
        "  return preds.argmax(dim=1).eq(labels).sum().item()\n",
        "\n",
        "get_correct(preds,labels)  "
      ],
      "execution_count": 181,
      "outputs": [
        {
          "output_type": "stream",
          "text": [
            "torch.Size([10, 1, 28, 28])\n",
            "torch.Size([10])\n",
            "torch.Size([10, 10])\n",
            "tensor([[-0.0128, -0.0930,  0.0655,  0.0789, -0.0774, -0.1018, -0.0362, -0.0515, -0.0263,  0.0138],\n",
            "        [-0.0137, -0.0846,  0.0670,  0.0801, -0.0689, -0.1102, -0.0230, -0.0556, -0.0246,  0.0237],\n",
            "        [-0.0067, -0.0962,  0.0700,  0.0776, -0.0778, -0.1133, -0.0304, -0.0504, -0.0324,  0.0222],\n",
            "        [-0.0106, -0.0953,  0.0701,  0.0781, -0.0734, -0.1129, -0.0371, -0.0464, -0.0311,  0.0214],\n",
            "        [-0.0127, -0.0912,  0.0672,  0.0718, -0.0702, -0.1083, -0.0377, -0.0494, -0.0277,  0.0283],\n",
            "        [-0.0121, -0.0925,  0.0730,  0.0807, -0.0716, -0.1057, -0.0231, -0.0466, -0.0267,  0.0262],\n",
            "        [-0.0084, -0.0942,  0.0752,  0.0797, -0.0713, -0.1124, -0.0302, -0.0531, -0.0354,  0.0256],\n",
            "        [-0.0172, -0.0938,  0.0771,  0.0787, -0.0672, -0.1028, -0.0336, -0.0449, -0.0373,  0.0214],\n",
            "        [-0.0076, -0.0958,  0.0682,  0.0799, -0.0796, -0.1141, -0.0318, -0.0473, -0.0314,  0.0215],\n",
            "        [-0.0052, -0.0839,  0.0649,  0.0843, -0.0791, -0.1109, -0.0305, -0.0530, -0.0250,  0.0177]])\n",
            "tensor([3, 3, 3, 3, 3, 3, 3, 3, 3, 3])\n",
            "tensor([9, 0, 0, 3, 0, 2, 7, 2, 5, 5])\n",
            "tensor([False, False, False,  True, False, False, False, False, False, False])\n",
            "tensor(1)\n"
          ],
          "name": "stdout"
        },
        {
          "output_type": "execute_result",
          "data": {
            "text/plain": [
              "1"
            ]
          },
          "metadata": {
            "tags": []
          },
          "execution_count": 181
        }
      ]
    },
    {
      "cell_type": "code",
      "metadata": {
        "id": "-2YIN8DG0WrG",
        "colab_type": "code",
        "colab": {
          "base_uri": "https://localhost:8080/",
          "height": 34
        },
        "outputId": "ce1313f3-cb5c-443a-829c-b576885f50dc"
      },
      "source": [
        "torch.set_grad_enabled(True)  "
      ],
      "execution_count": 182,
      "outputs": [
        {
          "output_type": "execute_result",
          "data": {
            "text/plain": [
              "<torch.autograd.grad_mode.set_grad_enabled at 0x7f7535ab1748>"
            ]
          },
          "metadata": {
            "tags": []
          },
          "execution_count": 182
        }
      ]
    },
    {
      "cell_type": "markdown",
      "metadata": {
        "id": "uUePIJTlR9_t",
        "colab_type": "text"
      },
      "source": [
        "### Training \n",
        "#### For a single batch\n",
        "* get a batch from the training set\n",
        "* pass the batch to the network\n",
        "* calculate the loss\n",
        "* calculate the gradient wrt the parameters\n",
        "* update the weights\n",
        "* repeat the above steps for one epoch(one full pass through all the samples)\n",
        "* repeat the above for as many epochs as desirable\n",
        "\n",
        "#### Loss Calculations\n",
        "```\n",
        "preds = network(images)\n",
        "loss = F.cross_entropy(preds,labels)\n",
        "loss.item()\n",
        "```\n",
        "#### Gradient Calculations\n",
        "```\n",
        "print(network.conv1.weight.grad)\n",
        "loss.backward() # to calculate the gradients by backprop\n",
        "print(network.conv1.weight.grad.shape)\n",
        "```\n",
        "#### Optimizer to update the parameters\n",
        "```\n",
        "optimizer = optim.Adam(network.parameters(), lr=0.01) # optimize the parameters\n",
        "print(loss.item())\n",
        "result = get_correct(preds, labels)\n",
        "print(result)\n",
        "optimizer.step() # to updatec the weights\n",
        "\n",
        "print(\"loss1:\", loss.item())\n",
        "preds = network(images)\n",
        "loss = F.cross_entropy(preds,labels)\n",
        "```\n",
        "\n",
        "Code:\n"
      ]
    },
    {
      "cell_type": "code",
      "metadata": {
        "id": "vPOyq7NcSBNc",
        "colab_type": "code",
        "colab": {
          "base_uri": "https://localhost:8080/",
          "height": 50
        },
        "outputId": "fbdb67fb-74a6-4049-aac0-e2ea3044a6d1"
      },
      "source": [
        "network = Network()\n",
        "\n",
        "train_loader = torch.utils.data.DataLoader(train_set, batch_size=100)\n",
        "optimizer = optim.Adam(network.parameters(), lr=0.01)\n",
        "\n",
        "batch = next(iter(train_loader))\n",
        "images, labels = batch\n",
        "\n",
        "preds = network(images)\n",
        "loss = F.cross_entropy(preds,labels)\n",
        "\n",
        "loss.backward()\n",
        "optimizer.step()\n",
        "\n",
        "print('loss1:', loss.item())\n",
        "preds = network(images)\n",
        "loss = F.cross_entropy(preds, labels)\n",
        "print(\"loss2:\", loss.item())"
      ],
      "execution_count": 189,
      "outputs": [
        {
          "output_type": "stream",
          "text": [
            "loss1: 2.3033432960510254\n",
            "loss2: 2.2757506370544434\n"
          ],
          "name": "stdout"
        }
      ]
    },
    {
      "cell_type": "markdown",
      "metadata": {
        "id": "HP-Gv9BDYr73",
        "colab_type": "text"
      },
      "source": [
        "### Training with all the batches\n",
        "\n"
      ]
    },
    {
      "cell_type": "code",
      "metadata": {
        "id": "lMWnyhbtZIu-",
        "colab_type": "code",
        "colab": {
          "base_uri": "https://localhost:8080/",
          "height": 185
        },
        "outputId": "157a6059-8d61-4fbe-b414-140b33ca90ab"
      },
      "source": [
        "network = Network()\n",
        "\n",
        "train_set = torchvision.datasets.FashionMNIST(root = './data/FashionMNIST', train = True, download = True, transform = transforms.Compose([transforms.ToTensor()]))\n",
        "train_set, val_set = torch.utils.data.random_split(train_set, lengths=[40000,20000])\n",
        "\n",
        "train_loader = torch.utils.data.DataLoader(train_set, batch_size=100)\n",
        "optimizer = optim.Adam(network.parameters(), lr=0.01)\n",
        "\n",
        "for epoch in range(10):\n",
        "\n",
        "  total_loss = 0\n",
        "  total_correct = 0\n",
        "  accuracy = 0\n",
        "\n",
        "  for batch in train_loader: # get all the batches\n",
        "    images, labels = batch\n",
        "\n",
        "    preds = network(images)\n",
        "    loss = F.cross_entropy(preds,labels)\n",
        "\n",
        "    optimizer.zero_grad() # zero out the gradients to ensure that gradients are initially set to 0\n",
        "    loss.backward()\n",
        "    optimizer.step()\n",
        "\n",
        "    total_loss += loss.item()\n",
        "    total_correct += get_correct(preds,labels)\n",
        "    accuracy = total_correct/len(train_set)\n",
        "\n",
        "  print(\"epoch:\", epoch, \"total_correct:\", total_correct, \"loss: {:.1f}\".format(total_loss), \"accuracy: {:.1f} %\".format(accuracy*100))"
      ],
      "execution_count": 198,
      "outputs": [
        {
          "output_type": "stream",
          "text": [
            "epoch: 0 total_correct: 30446 loss: 253.0 accuracy: 76.1 %\n",
            "epoch: 1 total_correct: 33908 loss: 164.1 accuracy: 84.8 %\n",
            "epoch: 2 total_correct: 34422 loss: 149.3 accuracy: 86.1 %\n",
            "epoch: 3 total_correct: 34792 loss: 141.2 accuracy: 87.0 %\n",
            "epoch: 4 total_correct: 34986 loss: 135.0 accuracy: 87.5 %\n",
            "epoch: 5 total_correct: 35178 loss: 130.0 accuracy: 87.9 %\n",
            "epoch: 6 total_correct: 35209 loss: 130.2 accuracy: 88.0 %\n",
            "epoch: 7 total_correct: 35204 loss: 128.7 accuracy: 88.0 %\n",
            "epoch: 8 total_correct: 35398 loss: 124.3 accuracy: 88.5 %\n",
            "epoch: 9 total_correct: 35438 loss: 122.9 accuracy: 88.6 %\n"
          ],
          "name": "stdout"
        }
      ]
    },
    {
      "cell_type": "code",
      "metadata": {
        "id": "l2ciUqnukxZO",
        "colab_type": "code",
        "colab": {
          "base_uri": "https://localhost:8080/",
          "height": 185
        },
        "outputId": "af1699a7-c699-4548-bee5-c7af1a662cc1"
      },
      "source": [
        "\n",
        "\n",
        "images, labels = batch\n",
        "\n",
        "val_pred = network(images) \n",
        "\n",
        "network = Network()\n",
        "\n",
        "train_set = torchvision.datasets.FashionMNIST(root = './data/FashionMNIST', train = True, download = True, transform = transforms.Compose([transforms.ToTensor()]))\n",
        "train_set, val_set = torch.utils.data.random_split(train_set, lengths=[40000,20000])\n",
        "val_loader = torch.utils.data.DataLoader(val_set, batch_size=100)\n",
        "val_batch = next(iter(val_loader))\n",
        "train_loader = torch.utils.data.DataLoader(train_set, batch_size=100)\n",
        "optimizer = optim.Adam(network.parameters(), lr=0.01)\n",
        "\n",
        "for epoch in range(10):\n",
        "\n",
        "  total_loss = 0\n",
        "  total_correct = 0\n",
        "  accuracy = 0\n",
        "  val_correct = 0\n",
        "  val_accuracy = 0\n",
        "  for batch in train_loader: # get all the batches\n",
        "    images, labels = batch\n",
        "\n",
        "    preds = network(images)\n",
        "    loss = F.cross_entropy(preds,labels)\n",
        "\n",
        "    optimizer.zero_grad() # zero out the gradients to ensure that gradients are initially set to 0\n",
        "    loss.backward()\n",
        "    optimizer.step()\n",
        "\n",
        "    total_loss += loss.item()\n",
        "    total_correct += get_correct(preds,labels)\n",
        "    accuracy = total_correct/len(train_set)\n",
        "\n",
        "  for val_batch in val_loader:\n",
        "    image_val, label_val = val_batch\n",
        "\n",
        "    pred_val = network(image_val)\n",
        "    \n",
        "    val_correct += get_correct(pred_val,label_val)\n",
        "    val_accuracy = val_correct/len(val_set)\n",
        "\n",
        "  print(\"epoch:\", epoch, \"total_correct:\", total_correct, \"loss: {:.1f}\".format(total_loss), \"accuracy: {:.1f} %\".format(accuracy*100), \"val_accuracy: {:.1f} %\".format(val_accuracy*100))"
      ],
      "execution_count": 200,
      "outputs": [
        {
          "output_type": "stream",
          "text": [
            "epoch: 0 total_correct: 30148 loss: 260.0 accuracy: 75.4 % val_accuracy: 81.6 %\n",
            "epoch: 1 total_correct: 33647 loss: 175.2 accuracy: 84.1 % val_accuracy: 84.5 %\n",
            "epoch: 2 total_correct: 34298 loss: 155.6 accuracy: 85.7 % val_accuracy: 85.3 %\n",
            "epoch: 3 total_correct: 34654 loss: 146.7 accuracy: 86.6 % val_accuracy: 85.5 %\n",
            "epoch: 4 total_correct: 34850 loss: 141.5 accuracy: 87.1 % val_accuracy: 85.8 %\n",
            "epoch: 5 total_correct: 34984 loss: 139.2 accuracy: 87.5 % val_accuracy: 87.2 %\n",
            "epoch: 6 total_correct: 35107 loss: 133.4 accuracy: 87.8 % val_accuracy: 86.9 %\n",
            "epoch: 7 total_correct: 35285 loss: 131.5 accuracy: 88.2 % val_accuracy: 87.0 %\n",
            "epoch: 8 total_correct: 35238 loss: 130.6 accuracy: 88.1 % val_accuracy: 87.1 %\n",
            "epoch: 9 total_correct: 35362 loss: 127.6 accuracy: 88.4 % val_accuracy: 87.0 %\n"
          ],
          "name": "stdout"
        }
      ]
    }
  ]
}